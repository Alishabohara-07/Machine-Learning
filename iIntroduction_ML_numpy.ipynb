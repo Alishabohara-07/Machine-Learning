{
  "nbformat": 4,
  "nbformat_minor": 0,
  "metadata": {
    "colab": {
      "provenance": [],
      "toc_visible": true,
      "authorship_tag": "ABX9TyOi0I3o9sCK0zv9xM6gvqyC",
      "include_colab_link": true
    },
    "kernelspec": {
      "name": "python3",
      "display_name": "Python 3"
    },
    "language_info": {
      "name": "python"
    }
  },
  "cells": [
    {
      "cell_type": "markdown",
      "metadata": {
        "id": "view-in-github",
        "colab_type": "text"
      },
      "source": [
        "<a href=\"https://colab.research.google.com/github/Alishabohara-07/Machine-Learning/blob/main/iIntroduction_ML_numpy.ipynb\" target=\"_parent\"><img src=\"https://colab.research.google.com/assets/colab-badge.svg\" alt=\"Open In Colab\"/></a>"
      ]
    },
    {
      "cell_type": "code",
      "execution_count": null,
      "metadata": {
        "id": "VVQpRtYcg3h2"
      },
      "outputs": [],
      "source": []
    },
    {
      "cell_type": "markdown",
      "source": [],
      "metadata": {
        "id": "DsKNl2Udg6yv"
      }
    },
    {
      "cell_type": "markdown",
      "source": [
        "#Introduction to Numpy\n",
        "\n",
        "What will we cover?\n",
        "\n",
        " Creating arrays\n",
        "\n",
        " Multi dimensional array\n",
        " Rnadomly generated arrays\n",
        " Element wise operators\n",
        "\n",
        "\n",
        "           Comparision operations\n",
        "           Logical Operations\n",
        "\n",
        "           Summarizing Operations\n",
        "\n",
        "```\n",
        "# This is formatted as code\n",
        "```\n",
        "\n"
      ],
      "metadata": {
        "id": "oAZ-bb7ag7Ka"
      }
    },
    {
      "cell_type": "code",
      "source": [
        "import numpy as np"
      ],
      "metadata": {
        "id": "WdP91ibEif45"
      },
      "execution_count": 2,
      "outputs": []
    },
    {
      "cell_type": "markdown",
      "source": [
        "Creating Arrays"
      ],
      "metadata": {
        "id": "O5KlSOCUiy4D"
      }
    },
    {
      "cell_type": "code",
      "source": [
        " var = np.zeros(5)\n",
        " print(type(var))\n",
        ""
      ],
      "metadata": {
        "colab": {
          "base_uri": "https://localhost:8080/"
        },
        "id": "q5DwlebxiuV3",
        "outputId": "cd513ee7-961b-4d75-8a46-062ac31aa6d1"
      },
      "execution_count": 4,
      "outputs": [
        {
          "output_type": "stream",
          "name": "stdout",
          "text": [
            "<class 'numpy.ndarray'>\n"
          ]
        }
      ]
    },
    {
      "cell_type": "code",
      "source": [
        "np.zeros(10)"
      ],
      "metadata": {
        "colab": {
          "base_uri": "https://localhost:8080/"
        },
        "id": "Ha3GorGtjpWN",
        "outputId": "a24b7b8e-a0de-4057-d633-554afe27fa30"
      },
      "execution_count": 5,
      "outputs": [
        {
          "output_type": "execute_result",
          "data": {
            "text/plain": [
              "array([0., 0., 0., 0., 0., 0., 0., 0., 0., 0.])"
            ]
          },
          "metadata": {},
          "execution_count": 5
        }
      ]
    },
    {
      "cell_type": "code",
      "source": [
        "np.ones(10)"
      ],
      "metadata": {
        "colab": {
          "base_uri": "https://localhost:8080/"
        },
        "id": "nvKXa_ATjwce",
        "outputId": "7a9b4018-9a5d-44ac-f7a0-4527fc6e6470"
      },
      "execution_count": 6,
      "outputs": [
        {
          "output_type": "execute_result",
          "data": {
            "text/plain": [
              "array([1., 1., 1., 1., 1., 1., 1., 1., 1., 1.])"
            ]
          },
          "metadata": {},
          "execution_count": 6
        }
      ]
    },
    {
      "cell_type": "code",
      "source": [
        "np.full(10, 3)"
      ],
      "metadata": {
        "colab": {
          "base_uri": "https://localhost:8080/"
        },
        "id": "JIKy2u_6j1SN",
        "outputId": "0a7ec3a1-ed89-4560-ef69-99cb8ad077ef"
      },
      "execution_count": 7,
      "outputs": [
        {
          "output_type": "execute_result",
          "data": {
            "text/plain": [
              "array([3, 3, 3, 3, 3, 3, 3, 3, 3, 3])"
            ]
          },
          "metadata": {},
          "execution_count": 7
        }
      ]
    },
    {
      "cell_type": "code",
      "source": [
        "np.array([1, 2, 3, 4])"
      ],
      "metadata": {
        "colab": {
          "base_uri": "https://localhost:8080/"
        },
        "id": "VDnibA4Lk1oo",
        "outputId": "85dab686-58d7-41b7-e013-4fca638d9275"
      },
      "execution_count": 8,
      "outputs": [
        {
          "output_type": "execute_result",
          "data": {
            "text/plain": [
              "array([1, 2, 3, 4])"
            ]
          },
          "metadata": {},
          "execution_count": 8
        }
      ]
    },
    {
      "cell_type": "code",
      "source": [
        "var = np.array([1, 2, 3, 4])\n",
        "var[2] = 6\n",
        "print(var)"
      ],
      "metadata": {
        "colab": {
          "base_uri": "https://localhost:8080/"
        },
        "id": "iDqh8mOnleyB",
        "outputId": "27c9417c-12d7-4078-9675-a2f1cb21aa76"
      },
      "execution_count": 10,
      "outputs": [
        {
          "output_type": "stream",
          "name": "stdout",
          "text": [
            "[1 2 6 4]\n"
          ]
        }
      ]
    },
    {
      "cell_type": "code",
      "source": [
        "np.arange(3, 10)"
      ],
      "metadata": {
        "colab": {
          "base_uri": "https://localhost:8080/"
        },
        "id": "q7ZaiGaPmWSu",
        "outputId": "cd64f0b3-0bbe-47cf-d197-aa36545e37b4"
      },
      "execution_count": 11,
      "outputs": [
        {
          "output_type": "execute_result",
          "data": {
            "text/plain": [
              "array([3, 4, 5, 6, 7, 8, 9])"
            ]
          },
          "metadata": {},
          "execution_count": 11
        }
      ]
    },
    {
      "cell_type": "markdown",
      "source": [
        "create arrays with evenly  spaced numbers within a specified range"
      ],
      "metadata": {
        "id": "VLRx-dmSmvEI"
      }
    },
    {
      "cell_type": "code",
      "source": [
        "np.linspace(0, 100, 10)"
      ],
      "metadata": {
        "colab": {
          "base_uri": "https://localhost:8080/"
        },
        "id": "4ZuV1ojqm4Ic",
        "outputId": "511effee-095c-4f6a-f00b-52e790bf9ae9"
      },
      "execution_count": 13,
      "outputs": [
        {
          "output_type": "execute_result",
          "data": {
            "text/plain": [
              "array([  0.        ,  11.11111111,  22.22222222,  33.33333333,\n",
              "        44.44444444,  55.55555556,  66.66666667,  77.77777778,\n",
              "        88.88888889, 100.        ])"
            ]
          },
          "metadata": {},
          "execution_count": 13
        }
      ]
    },
    {
      "cell_type": "markdown",
      "source": [
        "###Multidimensional Arrays"
      ],
      "metadata": {
        "id": "m1sVjtB1oTk2"
      }
    },
    {
      "cell_type": "code",
      "source": [
        "# creating an MD unit Array of size (5,2)\n",
        "np.zeros((5, 2))"
      ],
      "metadata": {
        "colab": {
          "base_uri": "https://localhost:8080/"
        },
        "id": "WaBOhOs0oX56",
        "outputId": "7b9ff725-a748-4c5a-9e19-1159085b5241"
      },
      "execution_count": 14,
      "outputs": [
        {
          "output_type": "execute_result",
          "data": {
            "text/plain": [
              "array([[0., 0.],\n",
              "       [0., 0.],\n",
              "       [0., 0.],\n",
              "       [0., 0.],\n",
              "       [0., 0.]])"
            ]
          },
          "metadata": {},
          "execution_count": 14
        }
      ]
    },
    {
      "cell_type": "code",
      "source": [
        "\n",
        "#Generate a random array of size (3, 5) with elements of your choice\n",
        "\n",
        "# zero_array = np.zeros((5, 2))\n",
        "# random_array = np.random.randint(1, 11, (3, 5))\n",
        "\n",
        "\n",
        "# print(\"\\nRandom Array (3,5):\")\n",
        "# print(random_array)\n",
        "\n",
        "n= np.array([\n",
        "    [1, 2, 3, 4, 5],\n",
        "    [2, 3, 4, 5, 6],\n",
        "    [6, 7, 8, 9, 0]\n",
        "])\n",
        "n\n"
      ],
      "metadata": {
        "colab": {
          "base_uri": "https://localhost:8080/"
        },
        "id": "8ZUqRKD4ofB-",
        "outputId": "ba5f3a0f-acb8-4c9a-8b2a-35b3298c0a77"
      },
      "execution_count": 22,
      "outputs": [
        {
          "output_type": "execute_result",
          "data": {
            "text/plain": [
              "array([[1, 2, 3, 4, 5],\n",
              "       [2, 3, 4, 5, 6],\n",
              "       [6, 7, 8, 9, 0]])"
            ]
          },
          "metadata": {},
          "execution_count": 22
        }
      ]
    },
    {
      "cell_type": "code",
      "source": [
        "#update this element of an array with index\n",
        "\n",
        "# random_array = np.random.randint(1, 11, (3, 5))\n",
        "\n",
        "# print(\"Original Array:\")\n",
        "# print(random_array)\n",
        "# random_array[1, 2] = 99\n",
        "\n",
        "# print(\"\\nUpdated Array:\")\n",
        "# print(random_array)\n",
        "\n",
        "\n",
        "n[:, 2] = [2, 4, 5]\n",
        "n"
      ],
      "metadata": {
        "colab": {
          "base_uri": "https://localhost:8080/"
        },
        "id": "ab5joRS1prGA",
        "outputId": "5d6f7222-a42b-4932-afde-d316ab858489"
      },
      "execution_count": 24,
      "outputs": [
        {
          "output_type": "execute_result",
          "data": {
            "text/plain": [
              "array([[1, 2, 2, 4, 5],\n",
              "       [2, 3, 4, 5, 6],\n",
              "       [6, 7, 5, 9, 0]])"
            ]
          },
          "metadata": {},
          "execution_count": 24
        }
      ]
    },
    {
      "cell_type": "markdown",
      "source": [
        "###Randomly generated arrays\n",
        "\n",
        "-Numpy can create arrays filled with random numbers.\n",
        "- To ensure  the reproducibility, you can set a seed using np.random.seed()\n",
        "\n",
        "- Everytime  you run the code with np.random.seed(2),it will generate the exact same random numbers.\n",
        "\n",
        "if you remove or change the seed valuses, the sequence of random numbers will be changed."
      ],
      "metadata": {
        "id": "BAwyC6cXsTXQ"
      }
    },
    {
      "cell_type": "code",
      "source": [
        "np.random.rand(3)"
      ],
      "metadata": {
        "colab": {
          "base_uri": "https://localhost:8080/"
        },
        "id": "uwKQ0a0CtlLo",
        "outputId": "16d0e154-7b1b-4004-98ba-57bde19cc2aa"
      },
      "execution_count": 26,
      "outputs": [
        {
          "output_type": "execute_result",
          "data": {
            "text/plain": [
              "array([0.07901619, 0.89794823, 0.91822936])"
            ]
          },
          "metadata": {},
          "execution_count": 26
        }
      ]
    },
    {
      "cell_type": "code",
      "source": [
        "np.random.seed(2)\n",
        "np.random.rand(5)"
      ],
      "metadata": {
        "colab": {
          "base_uri": "https://localhost:8080/"
        },
        "id": "KI92x5B4tsra",
        "outputId": "55a8a9bc-8101-4b49-b887-0003105d79f9"
      },
      "execution_count": 30,
      "outputs": [
        {
          "output_type": "execute_result",
          "data": {
            "text/plain": [
              "array([0.4359949 , 0.02592623, 0.54966248, 0.43532239, 0.4203678 ])"
            ]
          },
          "metadata": {},
          "execution_count": 30
        }
      ]
    },
    {
      "cell_type": "code",
      "source": [
        "np. random.seed(5)\n",
        "np.random.rand(5, 2)\n"
      ],
      "metadata": {
        "colab": {
          "base_uri": "https://localhost:8080/"
        },
        "id": "NzGxhyj4v19i",
        "outputId": "f6d3409f-565a-40b0-9ec0-02ca4ef4a440"
      },
      "execution_count": 33,
      "outputs": [
        {
          "output_type": "execute_result",
          "data": {
            "text/plain": [
              "array([[0.22199317, 0.87073231],\n",
              "       [0.20671916, 0.91861091],\n",
              "       [0.48841119, 0.61174386],\n",
              "       [0.76590786, 0.51841799],\n",
              "       [0.2968005 , 0.18772123]])"
            ]
          },
          "metadata": {},
          "execution_count": 33
        }
      ]
    },
    {
      "cell_type": "code",
      "source": [
        "np.random.randn(5, 2)"
      ],
      "metadata": {
        "colab": {
          "base_uri": "https://localhost:8080/"
        },
        "id": "Q0_dn_2owHnM",
        "outputId": "64b9a4be-0662-43b4-9117-c5a47cab983c"
      },
      "execution_count": 35,
      "outputs": [
        {
          "output_type": "execute_result",
          "data": {
            "text/plain": [
              "array([[-1.51117956,  0.64484751],\n",
              "       [-0.98060789, -0.85685315],\n",
              "       [-0.87187918, -0.42250793],\n",
              "       [ 0.99643983,  0.71242127],\n",
              "       [ 0.05914424, -0.36331088]])"
            ]
          },
          "metadata": {},
          "execution_count": 35
        }
      ]
    },
    {
      "cell_type": "code",
      "source": [
        "np.random.seed(42)\n",
        "np.random.randint(low=0, high=100, size=(5, 2))"
      ],
      "metadata": {
        "colab": {
          "base_uri": "https://localhost:8080/"
        },
        "id": "Xyaz-CCrxr75",
        "outputId": "ddd4922d-64a9-4119-9dfe-e296bdd184b9"
      },
      "execution_count": 36,
      "outputs": [
        {
          "output_type": "execute_result",
          "data": {
            "text/plain": [
              "array([[51, 92],\n",
              "       [14, 71],\n",
              "       [60, 20],\n",
              "       [82, 86],\n",
              "       [74, 74]])"
            ]
          },
          "metadata": {},
          "execution_count": 36
        }
      ]
    },
    {
      "cell_type": "markdown",
      "source": [
        "### Element wise operations"
      ],
      "metadata": {
        "id": "xuGvml8CynFq"
      }
    },
    {
      "cell_type": "code",
      "source": [
        "a = np.arange(5)\n",
        "a"
      ],
      "metadata": {
        "colab": {
          "base_uri": "https://localhost:8080/"
        },
        "id": "zmDAuocDyrVO",
        "outputId": "684bbf47-1582-4690-b328-9355ed893669"
      },
      "execution_count": 38,
      "outputs": [
        {
          "output_type": "execute_result",
          "data": {
            "text/plain": [
              "array([0, 1, 2, 3, 4])"
            ]
          },
          "metadata": {},
          "execution_count": 38
        }
      ]
    },
    {
      "cell_type": "code",
      "source": [
        "b = (10 + (a*2))\n",
        "b"
      ],
      "metadata": {
        "colab": {
          "base_uri": "https://localhost:8080/"
        },
        "id": "I1OaCSwxyy_m",
        "outputId": "9ef7c0ba-e9ba-4c57-c399-12d3994560e0"
      },
      "execution_count": 39,
      "outputs": [
        {
          "output_type": "execute_result",
          "data": {
            "text/plain": [
              "array([10, 12, 14, 16, 18])"
            ]
          },
          "metadata": {},
          "execution_count": 39
        }
      ]
    },
    {
      "cell_type": "code",
      "source": [
        "#comparision operation\n",
        "#you can  perform element - wise comparisons and create boolean arrays\n",
        "a"
      ],
      "metadata": {
        "colab": {
          "base_uri": "https://localhost:8080/"
        },
        "id": "bwZkdwaozWtW",
        "outputId": "dac080ac-32a9-424e-f475-2e52beee550a"
      },
      "execution_count": 40,
      "outputs": [
        {
          "output_type": "execute_result",
          "data": {
            "text/plain": [
              "array([0, 1, 2, 3, 4])"
            ]
          },
          "metadata": {},
          "execution_count": 40
        }
      ]
    },
    {
      "cell_type": "code",
      "source": [
        "a >= 2"
      ],
      "metadata": {
        "colab": {
          "base_uri": "https://localhost:8080/"
        },
        "id": "5pn_izmXzZhX",
        "outputId": "d36c2525-b295-40e6-c69d-144087aea1c9"
      },
      "execution_count": 42,
      "outputs": [
        {
          "output_type": "execute_result",
          "data": {
            "text/plain": [
              "array([False, False,  True,  True,  True])"
            ]
          },
          "metadata": {},
          "execution_count": 42
        }
      ]
    },
    {
      "cell_type": "code",
      "source": [
        "a > b"
      ],
      "metadata": {
        "colab": {
          "base_uri": "https://localhost:8080/"
        },
        "id": "Chq_Znktzd2p",
        "outputId": "143c9c0a-d32a-452b-fd1b-1d441ff62ed3"
      },
      "execution_count": 44,
      "outputs": [
        {
          "output_type": "execute_result",
          "data": {
            "text/plain": [
              "array([False, False, False, False, False])"
            ]
          },
          "metadata": {},
          "execution_count": 44
        }
      ]
    },
    {
      "cell_type": "code",
      "source": [
        "#Summarizing\n",
        "#Numpy provides functions for summarizing array of data\n",
        "a"
      ],
      "metadata": {
        "colab": {
          "base_uri": "https://localhost:8080/"
        },
        "id": "-O3n5SfizkbQ",
        "outputId": "7804b243-8dd1-4c7c-db47-4c9b0fc8e23a"
      },
      "execution_count": 46,
      "outputs": [
        {
          "output_type": "execute_result",
          "data": {
            "text/plain": [
              "array([0, 1, 2, 3, 4])"
            ]
          },
          "metadata": {},
          "execution_count": 46
        }
      ]
    },
    {
      "cell_type": "code",
      "source": [
        "#standard devistion\n",
        "a. std()"
      ],
      "metadata": {
        "colab": {
          "base_uri": "https://localhost:8080/"
        },
        "id": "oe_2_bTtzwwn",
        "outputId": "30b7eff7-279d-45bf-a7d2-85b0749f33c9"
      },
      "execution_count": 47,
      "outputs": [
        {
          "output_type": "execute_result",
          "data": {
            "text/plain": [
              "1.4142135623730951"
            ]
          },
          "metadata": {},
          "execution_count": 47
        }
      ]
    },
    {
      "cell_type": "code",
      "source": [
        "#minimum value of an array\n",
        "a.min()"
      ],
      "metadata": {
        "colab": {
          "base_uri": "https://localhost:8080/"
        },
        "id": "-jFpcNXXz3YZ",
        "outputId": "2fd102bb-ad2b-4e5a-ef4d-eebbbd874e4b"
      },
      "execution_count": 48,
      "outputs": [
        {
          "output_type": "execute_result",
          "data": {
            "text/plain": [
              "0"
            ]
          },
          "metadata": {},
          "execution_count": 48
        }
      ]
    },
    {
      "cell_type": "code",
      "source": [
        "#max value of an array\n",
        "a.max()"
      ],
      "metadata": {
        "colab": {
          "base_uri": "https://localhost:8080/"
        },
        "id": "2wOQo_EHz9ov",
        "outputId": "b0f4c3f1-0b8e-4b2d-d671-f22f8c8f0ba8"
      },
      "execution_count": 49,
      "outputs": [
        {
          "output_type": "execute_result",
          "data": {
            "text/plain": [
              "4"
            ]
          },
          "metadata": {},
          "execution_count": 49
        }
      ]
    },
    {
      "cell_type": "code",
      "source": [
        "#sum of  elements of an array\n",
        "a.sum()"
      ],
      "metadata": {
        "colab": {
          "base_uri": "https://localhost:8080/"
        },
        "id": "LPSm3CjI0ClD",
        "outputId": "6e6a5d5e-b0e0-4ab9-a5c7-58d716ec8ce4"
      },
      "execution_count": 50,
      "outputs": [
        {
          "output_type": "execute_result",
          "data": {
            "text/plain": [
              "10"
            ]
          },
          "metadata": {},
          "execution_count": 50
        }
      ]
    },
    {
      "cell_type": "markdown",
      "source": [],
      "metadata": {
        "id": "t-kM-54ay-ek"
      }
    }
  ]
}